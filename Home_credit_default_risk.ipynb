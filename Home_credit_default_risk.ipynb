version https://git-lfs.github.com/spec/v1
oid sha256:480e8758422eb10c7b4b66abe18babfd9191d99a60dc43c7edfbc551b7f68c79
size 148306
